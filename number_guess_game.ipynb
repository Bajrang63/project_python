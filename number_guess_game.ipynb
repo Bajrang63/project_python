{
  "nbformat": 4,
  "nbformat_minor": 0,
  "metadata": {
    "colab": {
      "provenance": []
    },
    "kernelspec": {
      "name": "python3",
      "display_name": "Python 3"
    },
    "language_info": {
      "name": "python"
    }
  },
  "cells": [
    {
      "cell_type": "code",
      "source": [
        "\n"
      ],
      "metadata": {
        "id": "QOsKh15jk0mM"
      },
      "execution_count": null,
      "outputs": []
    },
    {
      "cell_type": "code",
      "source": [
        "# Number Guessing Game\n",
        "\n",
        "import random\n",
        "import math\n",
        "\n",
        "def main():\n",
        "    # Initialize variables\n",
        "    low = int(input(\"Enter the lower bound: \"))\n",
        "    high = int(input(\"Enter the upper bound: \"))\n",
        "    number = random.randint(low, high)\n",
        "\n",
        "    print(f\"\\nYou have {round(math.log(high - low + 1, 2))} chances to guess the integer.\")\n",
        "\n",
        "    count = 0\n",
        "    while count < math.log(high - low + 1, 2):\n",
        "        count += 1\n",
        "        guess = int(input(\"System guesses the number: \"))\n",
        "\n",
        "        if guess == number:\n",
        "            print(f\"Wow! You guessed it in {count} tries.\")\n",
        "            break\n",
        "        elif guess < number:\n",
        "            print(\"The number is bigger.\")\n",
        "        else:\n",
        "            print(\"The number is smaller.\")\n",
        "\n",
        "    if count >= math.log(high - low + 1, 2):\n",
        "        print(f\"The number was {number}. Better luck next time!\")\n",
        "\n",
        "if __name__ == \"__main__\":\n",
        "    main()\n"
      ],
      "metadata": {
        "colab": {
          "base_uri": "https://localhost:8080/"
        },
        "id": "Pf_zRCaymp1-",
        "outputId": "633fbad3-c4ae-459f-e8da-54b7754133c1"
      },
      "execution_count": null,
      "outputs": [
        {
          "output_type": "stream",
          "name": "stdout",
          "text": [
            "Enter the lower bound: 1\n",
            "Enter the upper bound: 3\n",
            "\n",
            "You have 2 chances to guess the integer.\n",
            "System guesses the number: 2\n",
            "The number is smaller.\n",
            "System guesses the number: 1\n",
            "Wow! You guessed it in 2 tries.\n",
            "The number was 1. Better luck next time!\n"
          ]
        }
      ]
    },
    {
      "cell_type": "code",
      "source": [],
      "metadata": {
        "id": "pHJ4p1eLnAM0"
      },
      "execution_count": null,
      "outputs": []
    }
  ]
}